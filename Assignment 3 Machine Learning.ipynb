{
 "cells": [
  {
   "cell_type": "markdown",
   "metadata": {},
   "source": [
    "Assignment 3"
   ]
  },
  {
   "cell_type": "code",
   "execution_count": 43,
   "metadata": {},
   "outputs": [],
   "source": [
    "import pandas as pd\n",
    "import numpy as np\n",
    "from sklearn.neighbors import KNeighborsClassifier\n",
    "from sklearn.metrics import accuracy_score, mean_squared_error, mean_absolute_error\n",
    "from sklearn import preprocessing\n",
    "from sklearn.model_selection import train_test_split"
   ]
  },
  {
   "cell_type": "markdown",
   "metadata": {},
   "source": [
    "Load Dataset"
   ]
  },
  {
   "cell_type": "code",
   "execution_count": 70,
   "metadata": {},
   "outputs": [
    {
     "name": "stdout",
     "output_type": "stream",
     "text": [
      "id                                  int64\n",
      "name                               object\n",
      "host_id                             int64\n",
      "host_name                          object\n",
      "neighbourhood_group                object\n",
      "neighbourhood                      object\n",
      "latitude                          float64\n",
      "longitude                         float64\n",
      "room_type                          object\n",
      "price                               int64\n",
      "minimum_nights                      int64\n",
      "number_of_reviews                   int64\n",
      "last_review                        object\n",
      "reviews_per_month                 float64\n",
      "calculated_host_listings_count      int64\n",
      "availability_365                    int64\n",
      "dtype: object\n",
      "True\n",
      "False\n"
     ]
    }
   ],
   "source": [
    "data = pd.read_csv(\"listings.csv\", delimiter=\",\")\n",
    "print(data.dtypes)\n",
    "print(data.isna().values.any())\n",
    "data = data.dropna()\n",
    "print(data.isna().values.any())\n",
    "\n"
   ]
  },
  {
   "cell_type": "markdown",
   "metadata": {},
   "source": [
    "Change some types to countable type"
   ]
  },
  {
   "cell_type": "code",
   "execution_count": 76,
   "metadata": {},
   "outputs": [
    {
     "name": "stdout",
     "output_type": "stream",
     "text": [
      "{1, 2, 3}\n",
      "{1, 2, 3, 4, 5}\n",
      "{'Jurong East', 'Orchard', 'Newton', 'Jurong West', 'Pasir Ris', 'Bukit Merah', 'Outram', 'Queenstown', 'Rochor', 'Sembawang', 'Museum', 'Clementi', 'Sengkang', 'Ang Mo Kio', 'Toa Payoh', 'Serangoon', 'Bishan', 'Choa Chu Kang', 'Hougang', 'Bukit Panjang', 'Tuas', 'Singapore River', 'Sungei Kadut', 'Southern Islands', 'Tampines', 'Central Water Catchment', 'Mandai', 'Bukit Batok', 'Downtown Core', 'River Valley', 'Bukit Timah', 'Yishun', 'Punggol', 'Woodlands', 'Geylang', 'Marina South', 'Tanglin', 'Western Water Catchment', 'Bedok', 'Novena', 'Marine Parade', 'Kallang'}\n",
      "0       2\n",
      "1       2\n",
      "2       2\n",
      "3       2\n",
      "4       2\n",
      "       ..\n",
      "7715    1\n",
      "7728    2\n",
      "7752    2\n",
      "7766    1\n",
      "7767    2\n",
      "Name: room_type, Length: 5148, dtype: int8\n",
      "0       3\n",
      "1       1\n",
      "2       3\n",
      "3       2\n",
      "4       2\n",
      "       ..\n",
      "7715    1\n",
      "7728    1\n",
      "7752    5\n",
      "7766    1\n",
      "7767    4\n",
      "Name: neighbourhood_group, Length: 5148, dtype: int8\n"
     ]
    }
   ],
   "source": [
    "myset = set(data[\"room_type\"])\n",
    "print(myset)\n",
    "\n",
    "myset2 = set(data[\"neighbourhood_group\"])\n",
    "print(myset2)\n",
    "\n",
    "myset3 = set(data[\"neighbourhood\"])\n",
    "print(myset3)\n",
    "\n",
    "data[\"room_type\"] = pd.Categorical(data[\"room_type\"])\n",
    "data[\"room_type\"] = data[\"room_type\"].cat.rename_categories([1,2,3])\n",
    "data[\"room_type\"] = data[\"room_type\"].cat.codes\n",
    "data[\"room_type\"] = data[\"room_type\"]+1\n",
    "print(data[\"room_type\"])\n",
    "\n",
    "data[\"neighbourhood_group\"] = pd.Categorical(data[\"neighbourhood_group\"])\n",
    "data[\"neighbourhood_group\"] = data[\"neighbourhood_group\"].cat.rename_categories([1,2,3,4,5])\n",
    "data[\"neighbourhood_group\"] = data[\"neighbourhood_group\"].cat.codes\n",
    "data[\"neighbourhood_group\"] = data[\"neighbourhood_group\"]+1\n",
    "print(data[\"neighbourhood_group\"])"
   ]
  },
  {
   "cell_type": "markdown",
   "metadata": {},
   "source": [
    "Mean and Variance of each Continuous Random Variables"
   ]
  },
  {
   "cell_type": "code",
   "execution_count": 15,
   "metadata": {},
   "outputs": [
    {
     "name": "stdout",
     "output_type": "stream",
     "text": [
      "Latitude Mean:  1.313295291375289\n",
      "Latitude Variance:  0.0008581976614072127\n",
      "Longitude Mean:  103.84981773892754\n",
      "Longitude Variance:  0.0019138210690656972\n",
      "Reviews per month Mean:  1.0438539238539188\n",
      "Reviews per month Variance:  1.6535579052167562\n"
     ]
    }
   ],
   "source": [
    "print(\"Latitude Mean: \",data[\"latitude\"].mean())\n",
    "print(\"Latitude Variance: \",data[\"latitude\"].var())\n",
    "\n",
    "print(\"Longitude Mean: \",data[\"longitude\"].mean())\n",
    "print(\"Longitude Variance: \",data[\"longitude\"].var())\n",
    "\n",
    "print(\"Reviews per month Mean: \",data[\"reviews_per_month\"].mean())\n",
    "print(\"Reviews per month Variance: \",data[\"reviews_per_month\"].var())"
   ]
  },
  {
   "cell_type": "markdown",
   "metadata": {},
   "source": [
    "Mean and Variance of each Discrete Random Variables * countable only"
   ]
  },
  {
   "cell_type": "code",
   "execution_count": 78,
   "metadata": {},
   "outputs": [
    {
     "name": "stdout",
     "output_type": "stream",
     "text": [
      "Id Mean :  21437472.39121989\n",
      "Id Var :  97477764427779.81\n",
      "Host Id Mean :  80321178.93900543\n",
      "Host Id Var :  6080804872030466.0\n",
      "Price Mean :  151.3111888111888\n",
      "Price Var :  64428.489892271995\n",
      "Minimum Night Mean :  12.465229215229215\n",
      "Minimum Night Var :  1050.622260740176\n",
      "Number of Reviews Mean :  19.67055167055167\n",
      "Number of Reviews Var :  1220.611085221218\n",
      "availability 365 Mean :  201.1447163947164\n",
      "availability 365 Var :  20345.944664131646\n",
      "Room Type Mean :  1.5404040404040404\n",
      "Room Type Var :  0.3560512841647483\n",
      "Neighbourhood Group Mean :  1.4961149961149962\n",
      "Neighbourhood Group Var :  1.3283315134879152\n",
      "Calculated Host Listings count Mean :  35.22222222222222\n",
      "Calculated Host Listings count Var :  3615.7182393195326\n"
     ]
    }
   ],
   "source": [
    "print(\"Id Mean : \",data[\"id\"].mean())\n",
    "print(\"Id Var : \",data[\"id\"].var())\n",
    "\n",
    "print(\"Host Id Mean : \",data[\"host_id\"].mean())\n",
    "print(\"Host Id Var : \",data[\"host_id\"].var())\n",
    "\n",
    "print(\"Price Mean : \",data[\"price\"].mean())\n",
    "print(\"Price Var : \",data[\"price\"].var())\n",
    "\n",
    "print(\"Minimum Night Mean : \",data[\"minimum_nights\"].mean())\n",
    "print(\"Minimum Night Var : \",data[\"minimum_nights\"].var())\n",
    "\n",
    "print(\"Number of Reviews Mean : \",data[\"number_of_reviews\"].mean())\n",
    "print(\"Number of Reviews Var : \",data[\"number_of_reviews\"].var())\n",
    "\n",
    "print(\"availability 365 Mean : \",data[\"availability_365\"].mean())\n",
    "print(\"availability 365 Var : \",data[\"availability_365\"].var())\n",
    "\n",
    "print(\"Room Type Mean : \",data[\"room_type\"].mean())\n",
    "print(\"Room Type Var : \",data[\"room_type\"].var())\n",
    "\n",
    "print(\"Neighbourhood Group Mean : \",data[\"neighbourhood_group\"].mean())\n",
    "print(\"Neighbourhood Group Var : \",data[\"neighbourhood_group\"].var())\n",
    "\n",
    "print(\"Calculated Host Listings count Mean : \",data[\"calculated_host_listings_count\"].mean())\n",
    "print(\"Calculated Host Listings count Var : \",data[\"calculated_host_listings_count\"].var())"
   ]
  },
  {
   "cell_type": "code",
   "execution_count": null,
   "metadata": {},
   "outputs": [],
   "source": []
  }
 ],
 "metadata": {
  "kernelspec": {
   "display_name": "Python 3",
   "language": "python",
   "name": "python3"
  },
  "language_info": {
   "codemirror_mode": {
    "name": "ipython",
    "version": 3
   },
   "file_extension": ".py",
   "mimetype": "text/x-python",
   "name": "python",
   "nbconvert_exporter": "python",
   "pygments_lexer": "ipython3",
   "version": "3.7.4"
  }
 },
 "nbformat": 4,
 "nbformat_minor": 2
}
